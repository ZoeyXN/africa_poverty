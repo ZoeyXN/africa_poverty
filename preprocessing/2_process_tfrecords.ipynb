{
 "cells": [
  {
   "cell_type": "markdown",
   "metadata": {
    "toc": true
   },
   "source": [
    "<h1>Table of Contents<span class=\"tocSkip\"></span></h1>\n",
    "<div class=\"toc\"><ul class=\"toc-item\"><li><span><a href=\"#Pre-requisites\" data-toc-modified-id=\"Pre-requisites-1\"><span class=\"toc-item-num\">1&nbsp;&nbsp;</span>Pre-requisites</a></span></li><li><span><a href=\"#Instructions\" data-toc-modified-id=\"Instructions-2\"><span class=\"toc-item-num\">2&nbsp;&nbsp;</span>Instructions</a></span></li><li><span><a href=\"#Imports-and-Constants\" data-toc-modified-id=\"Imports-and-Constants-3\"><span class=\"toc-item-num\">3&nbsp;&nbsp;</span>Imports and Constants</a></span></li><li><span><a href=\"#Validate-and-Split-Exported-TFRecords\" data-toc-modified-id=\"Validate-and-Split-Exported-TFRecords-4\"><span class=\"toc-item-num\">4&nbsp;&nbsp;</span>Validate and Split Exported TFRecords</a></span></li><li><span><a href=\"#Calculate-Mean-and-Std-Dev-for-Each-Band\" data-toc-modified-id=\"Calculate-Mean-and-Std-Dev-for-Each-Band-5\"><span class=\"toc-item-num\">5&nbsp;&nbsp;</span>Calculate Mean and Std-Dev for Each Band</a></span></li></ul></div>"
   ]
  },
  {
   "cell_type": "markdown",
   "metadata": {},
   "source": [
    "## Pre-requisites\n",
    "\n",
    "Go through the [`preprocessing/0_cluster_survey.ipynb`](./0_cluster_surveys.ipynb) and [`preprocessing/1_export_tfrecords.ipynb`](./1_export_tfrecords.ipynb) notebooks.\n",
    "\n",
    "Before running this notebook, you should have the following structure under the `data/` directory:\n",
    "\n",
    "```\n",
    "data/\n",
    "    dhs_tfrecords_raw/\n",
    "        angola_2011_00.tfrecord.gz\n",
    "        ...\n",
    "        zimbabwe_2015_XX.tfrecord.gz\n",
    "    dhsnl_tfrecords_raw/\n",
    "        angola_2010_00.tfrecord.gz\n",
    "        ...\n",
    "        zimbabwe_2016_XX.tfrecord.gz\n",
    "    lsms_tfrecords_raw/\n",
    "        ethiopia_2011_00.tfrecord.gz\n",
    "        ...\n",
    "        uganda_2013_XX.tfrecord.gz\n",
    "```\n",
    "\n",
    "## Instructions\n",
    "\n",
    "This notebook processes the exported TFRecords as follows:\n",
    "1. Verifies that the fields in the TFRecords match the original CSV files.\n",
    "2. Splits each monolithic TFRecord file exported from Google Earth Engine into one file per record.\n",
    "\n",
    "After running this notebook, you should have three new folders (`dhs_tfrecords`, `dhsnl_tfrecords`, and `lsms_tfrecords`) under `data/`:\n",
    "\n",
    "```\n",
    "data/\n",
    "    dhs_tfrecords/\n",
    "        angola_2011/\n",
    "            00000.tfrecord.gz\n",
    "            ...\n",
    "            00229.tfrecord.gz\n",
    "        ...\n",
    "        zimbabwe_2015/\n",
    "            00000.tfrecord.gz\n",
    "            ...\n",
    "            00399.tfrecord.gz\n",
    "    dhsnl_tfrecords/\n",
    "        angola_2010/\n",
    "            00000.tfrecord.gz\n",
    "            ...\n",
    "            07734.tfrecord.gz\n",
    "        zimbabwe_2016/\n",
    "            00000.tfrecord.gz\n",
    "            ...\n",
    "            03584.tfrecord.gz\n",
    "    lsms_tfrecords/\n",
    "        ethiopia_2011/\n",
    "            00000.tfrecord.gz\n",
    "            ...\n",
    "            00326.tfrecord.gz\n",
    "        uganda_2013/\n",
    "            00000.tfrecord.gz\n",
    "            ...\n",
    "            00164.tfrecord.gz\n",
    "```\n",
    "\n",
    "This notebook also calculates the mean and standard deviation of each band across each of the 3 datasets."
   ]
  },
  {
   "cell_type": "markdown",
   "metadata": {},
   "source": [
    "## Imports and Constants"
   ]
  },
  {
   "cell_type": "code",
   "execution_count": 1,
   "metadata": {},
   "outputs": [
    {
     "name": "stdout",
     "output_type": "stream",
     "text": [
      "/home/ubuntu/africa_poverty\n"
     ]
    }
   ],
   "source": [
    "%load_ext autoreload\n",
    "%autoreload 2\n",
    "\n",
    "# change directory to repo root, and verify\n",
    "%cd ../"
   ]
  },
  {
   "cell_type": "code",
   "execution_count": 2,
   "metadata": {},
   "outputs": [],
   "source": [
    "from __future__ import annotations\n",
    "\n",
    "from collections.abc import Iterable\n",
    "from glob import glob\n",
    "from pprint import pprint\n",
    "import os\n",
    "from typing import Optional\n",
    "\n",
    "import numpy as np\n",
    "import pandas as pd\n",
    "import tensorflow as tf\n",
    "from tqdm.auto import tqdm\n",
    "\n",
    "from batchers import batcher, tfrecord_paths_utils\n",
    "from preprocessing.helper import (\n",
    "    analyze_tfrecord_batch,\n",
    "    per_band_mean_std,\n",
    "    print_analysis_results)"
   ]
  },
  {
   "cell_type": "code",
   "execution_count": 3,
   "metadata": {
    "tags": []
   },
   "outputs": [],
   "source": [
    "REQUIRED_BANDS = [\n",
    "    'BLUE', 'GREEN', 'LAT', 'LON', 'NIGHTLIGHTS', 'NIR', 'RED',\n",
    "    'SWIR1', 'SWIR2', 'TEMP1']\n",
    "\n",
    "BANDS_ORDER = [\n",
    "    'BLUE', 'GREEN', 'RED', 'SWIR1', 'SWIR2', 'TEMP1', 'NIR',\n",
    "    'DMSP', 'VIIRS']\n",
    "\n",
    "DHS_EXPORT_FOLDER = 'data/South_Asia_5_countries/dhs_tfrecords_raw-3_year_period-Landsat_DMSP_VIIRS'\n",
    "# DHSNL_EXPORT_FOLDER = 'data/dhsnl_tfrecords_raw'\n",
    "# LSMS_EXPORT_FOLDER = 'data/lsms_tfrecords_raw'\n",
    "\n",
    "DHS_PROCESSED_FOLDER = 'data/South_Asia_5_countries/dhs_tfrecords-3_year_period-Landsat_DMSP_VIIRS'\n",
    "# DHSNL_PROCESSED_FOLDER = 'data/dhsnl_tfrecords'\n",
    "# LSMS_PROCESSED_FOLDER = 'data/lsms_tfrecords'\n",
    "\n",
    "DHS_CLUSTERS_FILE = 'data/South_Asia_5_countries/dhs_clusters_South_Asia_from_2000.csv'"
   ]
  },
  {
   "cell_type": "markdown",
   "metadata": {},
   "source": [
    "## Validate and Split Exported TFRecords"
   ]
  },
  {
   "cell_type": "code",
   "execution_count": 8,
   "metadata": {},
   "outputs": [],
   "source": [
    "def process_dataset(csv_path: str, input_dir: str, processed_dir: str) -> None:\n",
    "    '''\n",
    "    Args\n",
    "    - csv_path: str, path to CSV of DHS or LSMS clusters\n",
    "    - input_dir: str, path to TFRecords exported from Google Earth Engine\n",
    "    - processed_dir: str, folder where to save processed TFRecords\n",
    "    '''\n",
    "    df = pd.read_csv(csv_path, float_precision='high', index_col=False)\n",
    "    surveys = list(df.groupby(['country', 'year']).groups.keys())  # (country, year) tuples\n",
    "\n",
    "    for country, year in surveys:\n",
    "        country_year = f'{country}_{year}'\n",
    "        print('Processing:', country_year)\n",
    "\n",
    "        tfrecord_paths = glob(os.path.join(input_dir, country_year + '*'))\n",
    "        out_dir = os.path.join(processed_dir, country_year)\n",
    "        os.makedirs(out_dir, exist_ok=True)\n",
    "        subset_df = df[(df['country'] == country) & (df['year'] == year)].reset_index(drop=True)\n",
    "        validate_and_split_tfrecords(\n",
    "            tfrecord_paths=tfrecord_paths, out_dir=out_dir, df=subset_df)\n",
    "\n",
    "\n",
    "def validate_and_split_tfrecords(\n",
    "        tfrecord_paths: Iterable[str],\n",
    "        out_dir: str,\n",
    "        df: pd.DataFrame\n",
    "        ) -> None:\n",
    "    '''Validates and splits a list of exported TFRecord files (for a\n",
    "    given country-year survey) into individual TFrecords, one per cluster.\n",
    "\n",
    "    \"Validating\" a TFRecord comprises of 2 parts\n",
    "    1) verifying that it contains the required bands\n",
    "    2) verifying that its other features match the values from the dataset CSV\n",
    "\n",
    "    Args\n",
    "    - tfrecord_paths: list of str, paths to exported TFRecords files\n",
    "    - out_dir: str, path to dir to save processed individual TFRecords\n",
    "    - df: pd.DataFrame, index is sequential and starts at 0\n",
    "    '''\n",
    "    # Create an iterator over the TFRecords file. The iterator yields\n",
    "    # the binary representations of Example messages as strings.\n",
    "    options = tf.io.TFRecordOptions(tf.io.TFRecordCompressionType.GZIP)\n",
    "\n",
    "    # cast float64 => float32 and str => bytes\n",
    "    for col in df.columns:\n",
    "        if df[col].dtype == np.float64:\n",
    "            df[col] = df[col].astype(np.float32)\n",
    "        elif df[col].dtype == object:  # pandas uses 'object' type for str\n",
    "            df[col] = df[col].astype(bytes)\n",
    "\n",
    "    i = 0\n",
    "    progbar = tqdm(total=len(df))\n",
    "\n",
    "    tfrecord_paths = sorted(tfrecord_paths, key=lambda x: int(x.split('.')[-3].split('_')[-1]))\n",
    "    for record_id, tfrecord_path in enumerate(tfrecord_paths):\n",
    "        # Skip two missing .tfrecord.gz files (GEE export failed)\n",
    "        if 'India_2015' in out_dir and record_id == 644:\n",
    "            print(f'Skip {2 * 20} clusters in {out_dir.split(\"/\")[-1]}')\n",
    "            i += 40  # TODO: change 40 to the 2 * CHUNK_SIZE in 1_export_tfrecords.ipynb\n",
    "            progbar.update(40)\n",
    "        iterator = tf.io.tf_record_iterator(tfrecord_path, options=options)\n",
    "        for record_str in iterator:\n",
    "            # parse into an actual Example message\n",
    "            ex = tf.train.Example.FromString(record_str)\n",
    "            feature_map = ex.features.feature\n",
    "\n",
    "            # verify required bands exist\n",
    "            missing_bands = False  # TODO: delete this\n",
    "            for band in REQUIRED_BANDS:\n",
    "#                 assert band in feature_map, f'Band \"{band}\" not in record {i} of {tfrecord_path}'\n",
    "                if band not in feature_map:\n",
    "                    print(f'Band \"{band}\" not in record {i} of {tfrecord_path}')\n",
    "                    missing_bands = True\n",
    "            if missing_bands:\n",
    "                print(f'Skip 1 cluster in {out_dir.split(\"/\")[-1]}')\n",
    "                i += 1\n",
    "                progbar.update(1)\n",
    "                continue\n",
    "\n",
    "            # compare feature map values against CSV values\n",
    "            csv_feats = df.loc[i, :].to_dict()\n",
    "            for col, val in csv_feats.items():\n",
    "                ft_type = feature_map[col].WhichOneof('kind')\n",
    "                ex_val = feature_map[col].__getattribute__(ft_type).value[0]\n",
    "                assert val == ex_val, f'Expected {col}={val}, but found {ex_val} instead'\n",
    "\n",
    "            # serialize to string and write to file\n",
    "            out_path = os.path.join(out_dir, f'{i:05d}.tfrecord.gz')  # all surveys have < 1e6 clusters\n",
    "            with tf.io.TFRecordWriter(out_path, options=options) as writer:\n",
    "                writer.write(ex.SerializeToString())\n",
    "\n",
    "            i += 1\n",
    "            progbar.update(1)\n",
    "    progbar.close()"
   ]
  },
  {
   "cell_type": "code",
   "execution_count": 9,
   "metadata": {},
   "outputs": [
    {
     "name": "stdout",
     "output_type": "stream",
     "text": [
      "Processing: Bangladesh_2000\n"
     ]
    },
    {
     "data": {
      "application/vnd.jupyter.widget-view+json": {
       "model_id": "d07472d1324840c29217103882ca4d42",
       "version_major": 2,
       "version_minor": 0
      },
      "text/plain": [
       "HBox(children=(FloatProgress(value=0.0, max=182.0), HTML(value='')))"
      ]
     },
     "metadata": {},
     "output_type": "display_data"
    },
    {
     "name": "stdout",
     "output_type": "stream",
     "text": [
      "\n",
      "Processing: Bangladesh_2004\n"
     ]
    },
    {
     "data": {
      "application/vnd.jupyter.widget-view+json": {
       "model_id": "eeb73e793be14205b690e25f48527fab",
       "version_major": 2,
       "version_minor": 0
      },
      "text/plain": [
       "HBox(children=(FloatProgress(value=0.0, max=360.0), HTML(value='')))"
      ]
     },
     "metadata": {},
     "output_type": "display_data"
    },
    {
     "name": "stdout",
     "output_type": "stream",
     "text": [
      "Band \"BLUE\" not in record 0 of data/South_Asia_5_countries/dhs_tfrecords_raw-3_year_period-Landsat_DMSP_VIIRS/Bangladesh_2004_00.tfrecord.gz\n",
      "Band \"GREEN\" not in record 0 of data/South_Asia_5_countries/dhs_tfrecords_raw-3_year_period-Landsat_DMSP_VIIRS/Bangladesh_2004_00.tfrecord.gz\n",
      "Band \"NIR\" not in record 0 of data/South_Asia_5_countries/dhs_tfrecords_raw-3_year_period-Landsat_DMSP_VIIRS/Bangladesh_2004_00.tfrecord.gz\n",
      "Band \"RED\" not in record 0 of data/South_Asia_5_countries/dhs_tfrecords_raw-3_year_period-Landsat_DMSP_VIIRS/Bangladesh_2004_00.tfrecord.gz\n",
      "Band \"SWIR1\" not in record 0 of data/South_Asia_5_countries/dhs_tfrecords_raw-3_year_period-Landsat_DMSP_VIIRS/Bangladesh_2004_00.tfrecord.gz\n",
      "Band \"SWIR2\" not in record 0 of data/South_Asia_5_countries/dhs_tfrecords_raw-3_year_period-Landsat_DMSP_VIIRS/Bangladesh_2004_00.tfrecord.gz\n",
      "Band \"TEMP1\" not in record 0 of data/South_Asia_5_countries/dhs_tfrecords_raw-3_year_period-Landsat_DMSP_VIIRS/Bangladesh_2004_00.tfrecord.gz\n",
      "Skip 1 cluster in Bangladesh_2004\n",
      "\n",
      "Processing: Bangladesh_2007\n"
     ]
    },
    {
     "data": {
      "application/vnd.jupyter.widget-view+json": {
       "model_id": "256437e2dfcb484dbd774b3aab7cafc5",
       "version_major": 2,
       "version_minor": 0
      },
      "text/plain": [
       "HBox(children=(FloatProgress(value=0.0, max=361.0), HTML(value='')))"
      ]
     },
     "metadata": {},
     "output_type": "display_data"
    },
    {
     "name": "stdout",
     "output_type": "stream",
     "text": [
      "\n",
      "Processing: Bangladesh_2011\n"
     ]
    },
    {
     "data": {
      "application/vnd.jupyter.widget-view+json": {
       "model_id": "36ccf321b6b3402fb2885fcb3bf9d011",
       "version_major": 2,
       "version_minor": 0
      },
      "text/plain": [
       "HBox(children=(FloatProgress(value=0.0, max=600.0), HTML(value='')))"
      ]
     },
     "metadata": {},
     "output_type": "display_data"
    },
    {
     "name": "stdout",
     "output_type": "stream",
     "text": [
      "\n",
      "Processing: Bangladesh_2014\n"
     ]
    },
    {
     "data": {
      "application/vnd.jupyter.widget-view+json": {
       "model_id": "b7569891a458490390b3c7c25486ecf9",
       "version_major": 2,
       "version_minor": 0
      },
      "text/plain": [
       "HBox(children=(FloatProgress(value=0.0, max=599.0), HTML(value='')))"
      ]
     },
     "metadata": {},
     "output_type": "display_data"
    },
    {
     "name": "stdout",
     "output_type": "stream",
     "text": [
      "\n",
      "Processing: India_2015\n"
     ]
    },
    {
     "data": {
      "application/vnd.jupyter.widget-view+json": {
       "model_id": "aef0361adaba4a96bcd87f3819e5bffa",
       "version_major": 2,
       "version_minor": 0
      },
      "text/plain": [
       "HBox(children=(FloatProgress(value=0.0, max=14243.0), HTML(value='')))"
      ]
     },
     "metadata": {},
     "output_type": "display_data"
    },
    {
     "name": "stdout",
     "output_type": "stream",
     "text": [
      "Band \"BLUE\" not in record 12441 of data/South_Asia_5_countries/dhs_tfrecords_raw-3_year_period-Landsat_DMSP_VIIRS/India_2015_622.tfrecord.gz\n",
      "Band \"GREEN\" not in record 12441 of data/South_Asia_5_countries/dhs_tfrecords_raw-3_year_period-Landsat_DMSP_VIIRS/India_2015_622.tfrecord.gz\n",
      "Band \"NIR\" not in record 12441 of data/South_Asia_5_countries/dhs_tfrecords_raw-3_year_period-Landsat_DMSP_VIIRS/India_2015_622.tfrecord.gz\n",
      "Band \"RED\" not in record 12441 of data/South_Asia_5_countries/dhs_tfrecords_raw-3_year_period-Landsat_DMSP_VIIRS/India_2015_622.tfrecord.gz\n",
      "Band \"SWIR1\" not in record 12441 of data/South_Asia_5_countries/dhs_tfrecords_raw-3_year_period-Landsat_DMSP_VIIRS/India_2015_622.tfrecord.gz\n",
      "Band \"SWIR2\" not in record 12441 of data/South_Asia_5_countries/dhs_tfrecords_raw-3_year_period-Landsat_DMSP_VIIRS/India_2015_622.tfrecord.gz\n",
      "Band \"TEMP1\" not in record 12441 of data/South_Asia_5_countries/dhs_tfrecords_raw-3_year_period-Landsat_DMSP_VIIRS/India_2015_622.tfrecord.gz\n",
      "Skip 1 cluster in India_2015\n",
      "Band \"BLUE\" not in record 12452 of data/South_Asia_5_countries/dhs_tfrecords_raw-3_year_period-Landsat_DMSP_VIIRS/India_2015_622.tfrecord.gz\n",
      "Band \"GREEN\" not in record 12452 of data/South_Asia_5_countries/dhs_tfrecords_raw-3_year_period-Landsat_DMSP_VIIRS/India_2015_622.tfrecord.gz\n",
      "Band \"NIR\" not in record 12452 of data/South_Asia_5_countries/dhs_tfrecords_raw-3_year_period-Landsat_DMSP_VIIRS/India_2015_622.tfrecord.gz\n",
      "Band \"RED\" not in record 12452 of data/South_Asia_5_countries/dhs_tfrecords_raw-3_year_period-Landsat_DMSP_VIIRS/India_2015_622.tfrecord.gz\n",
      "Band \"SWIR1\" not in record 12452 of data/South_Asia_5_countries/dhs_tfrecords_raw-3_year_period-Landsat_DMSP_VIIRS/India_2015_622.tfrecord.gz\n",
      "Band \"SWIR2\" not in record 12452 of data/South_Asia_5_countries/dhs_tfrecords_raw-3_year_period-Landsat_DMSP_VIIRS/India_2015_622.tfrecord.gz\n",
      "Band \"TEMP1\" not in record 12452 of data/South_Asia_5_countries/dhs_tfrecords_raw-3_year_period-Landsat_DMSP_VIIRS/India_2015_622.tfrecord.gz\n",
      "Skip 1 cluster in India_2015\n",
      "Skip 40 clusters in India_2015\n",
      "Band \"BLUE\" not in record 13827 of data/South_Asia_5_countries/dhs_tfrecords_raw-3_year_period-Landsat_DMSP_VIIRS/India_2015_691.tfrecord.gz\n",
      "Band \"GREEN\" not in record 13827 of data/South_Asia_5_countries/dhs_tfrecords_raw-3_year_period-Landsat_DMSP_VIIRS/India_2015_691.tfrecord.gz\n",
      "Band \"NIR\" not in record 13827 of data/South_Asia_5_countries/dhs_tfrecords_raw-3_year_period-Landsat_DMSP_VIIRS/India_2015_691.tfrecord.gz\n",
      "Band \"RED\" not in record 13827 of data/South_Asia_5_countries/dhs_tfrecords_raw-3_year_period-Landsat_DMSP_VIIRS/India_2015_691.tfrecord.gz\n",
      "Band \"SWIR1\" not in record 13827 of data/South_Asia_5_countries/dhs_tfrecords_raw-3_year_period-Landsat_DMSP_VIIRS/India_2015_691.tfrecord.gz\n",
      "Band \"SWIR2\" not in record 13827 of data/South_Asia_5_countries/dhs_tfrecords_raw-3_year_period-Landsat_DMSP_VIIRS/India_2015_691.tfrecord.gz\n",
      "Band \"TEMP1\" not in record 13827 of data/South_Asia_5_countries/dhs_tfrecords_raw-3_year_period-Landsat_DMSP_VIIRS/India_2015_691.tfrecord.gz\n",
      "Skip 1 cluster in India_2015\n",
      "Band \"BLUE\" not in record 13843 of data/South_Asia_5_countries/dhs_tfrecords_raw-3_year_period-Landsat_DMSP_VIIRS/India_2015_692.tfrecord.gz\n",
      "Band \"GREEN\" not in record 13843 of data/South_Asia_5_countries/dhs_tfrecords_raw-3_year_period-Landsat_DMSP_VIIRS/India_2015_692.tfrecord.gz\n",
      "Band \"NIR\" not in record 13843 of data/South_Asia_5_countries/dhs_tfrecords_raw-3_year_period-Landsat_DMSP_VIIRS/India_2015_692.tfrecord.gz\n",
      "Band \"RED\" not in record 13843 of data/South_Asia_5_countries/dhs_tfrecords_raw-3_year_period-Landsat_DMSP_VIIRS/India_2015_692.tfrecord.gz\n",
      "Band \"SWIR1\" not in record 13843 of data/South_Asia_5_countries/dhs_tfrecords_raw-3_year_period-Landsat_DMSP_VIIRS/India_2015_692.tfrecord.gz\n",
      "Band \"SWIR2\" not in record 13843 of data/South_Asia_5_countries/dhs_tfrecords_raw-3_year_period-Landsat_DMSP_VIIRS/India_2015_692.tfrecord.gz\n",
      "Band \"TEMP1\" not in record 13843 of data/South_Asia_5_countries/dhs_tfrecords_raw-3_year_period-Landsat_DMSP_VIIRS/India_2015_692.tfrecord.gz\n",
      "Skip 1 cluster in India_2015\n",
      "\n",
      "Processing: India_2016\n"
     ]
    },
    {
     "data": {
      "application/vnd.jupyter.widget-view+json": {
       "model_id": "b47974b772784bbcb32db4457a9e61c7",
       "version_major": 2,
       "version_minor": 0
      },
      "text/plain": [
       "HBox(children=(FloatProgress(value=0.0, max=14147.0), HTML(value='')))"
      ]
     },
     "metadata": {},
     "output_type": "display_data"
    },
    {
     "name": "stdout",
     "output_type": "stream",
     "text": [
      "Band \"BLUE\" not in record 630 of data/South_Asia_5_countries/dhs_tfrecords_raw-3_year_period-Landsat_DMSP_VIIRS/India_2016_31.tfrecord.gz\n",
      "Band \"GREEN\" not in record 630 of data/South_Asia_5_countries/dhs_tfrecords_raw-3_year_period-Landsat_DMSP_VIIRS/India_2016_31.tfrecord.gz\n",
      "Band \"NIR\" not in record 630 of data/South_Asia_5_countries/dhs_tfrecords_raw-3_year_period-Landsat_DMSP_VIIRS/India_2016_31.tfrecord.gz\n",
      "Band \"RED\" not in record 630 of data/South_Asia_5_countries/dhs_tfrecords_raw-3_year_period-Landsat_DMSP_VIIRS/India_2016_31.tfrecord.gz\n",
      "Band \"SWIR1\" not in record 630 of data/South_Asia_5_countries/dhs_tfrecords_raw-3_year_period-Landsat_DMSP_VIIRS/India_2016_31.tfrecord.gz\n",
      "Band \"SWIR2\" not in record 630 of data/South_Asia_5_countries/dhs_tfrecords_raw-3_year_period-Landsat_DMSP_VIIRS/India_2016_31.tfrecord.gz\n",
      "Band \"TEMP1\" not in record 630 of data/South_Asia_5_countries/dhs_tfrecords_raw-3_year_period-Landsat_DMSP_VIIRS/India_2016_31.tfrecord.gz\n",
      "Skip 1 cluster in India_2016\n",
      "Band \"BLUE\" not in record 632 of data/South_Asia_5_countries/dhs_tfrecords_raw-3_year_period-Landsat_DMSP_VIIRS/India_2016_31.tfrecord.gz\n",
      "Band \"GREEN\" not in record 632 of data/South_Asia_5_countries/dhs_tfrecords_raw-3_year_period-Landsat_DMSP_VIIRS/India_2016_31.tfrecord.gz\n",
      "Band \"NIR\" not in record 632 of data/South_Asia_5_countries/dhs_tfrecords_raw-3_year_period-Landsat_DMSP_VIIRS/India_2016_31.tfrecord.gz\n",
      "Band \"RED\" not in record 632 of data/South_Asia_5_countries/dhs_tfrecords_raw-3_year_period-Landsat_DMSP_VIIRS/India_2016_31.tfrecord.gz\n",
      "Band \"SWIR1\" not in record 632 of data/South_Asia_5_countries/dhs_tfrecords_raw-3_year_period-Landsat_DMSP_VIIRS/India_2016_31.tfrecord.gz\n",
      "Band \"SWIR2\" not in record 632 of data/South_Asia_5_countries/dhs_tfrecords_raw-3_year_period-Landsat_DMSP_VIIRS/India_2016_31.tfrecord.gz\n",
      "Band \"TEMP1\" not in record 632 of data/South_Asia_5_countries/dhs_tfrecords_raw-3_year_period-Landsat_DMSP_VIIRS/India_2016_31.tfrecord.gz\n",
      "Skip 1 cluster in India_2016\n",
      "Band \"BLUE\" not in record 634 of data/South_Asia_5_countries/dhs_tfrecords_raw-3_year_period-Landsat_DMSP_VIIRS/India_2016_31.tfrecord.gz\n",
      "Band \"GREEN\" not in record 634 of data/South_Asia_5_countries/dhs_tfrecords_raw-3_year_period-Landsat_DMSP_VIIRS/India_2016_31.tfrecord.gz\n",
      "Band \"NIR\" not in record 634 of data/South_Asia_5_countries/dhs_tfrecords_raw-3_year_period-Landsat_DMSP_VIIRS/India_2016_31.tfrecord.gz\n",
      "Band \"RED\" not in record 634 of data/South_Asia_5_countries/dhs_tfrecords_raw-3_year_period-Landsat_DMSP_VIIRS/India_2016_31.tfrecord.gz\n",
      "Band \"SWIR1\" not in record 634 of data/South_Asia_5_countries/dhs_tfrecords_raw-3_year_period-Landsat_DMSP_VIIRS/India_2016_31.tfrecord.gz\n",
      "Band \"SWIR2\" not in record 634 of data/South_Asia_5_countries/dhs_tfrecords_raw-3_year_period-Landsat_DMSP_VIIRS/India_2016_31.tfrecord.gz\n",
      "Band \"TEMP1\" not in record 634 of data/South_Asia_5_countries/dhs_tfrecords_raw-3_year_period-Landsat_DMSP_VIIRS/India_2016_31.tfrecord.gz\n",
      "Skip 1 cluster in India_2016\n",
      "Band \"BLUE\" not in record 637 of data/South_Asia_5_countries/dhs_tfrecords_raw-3_year_period-Landsat_DMSP_VIIRS/India_2016_31.tfrecord.gz\n",
      "Band \"GREEN\" not in record 637 of data/South_Asia_5_countries/dhs_tfrecords_raw-3_year_period-Landsat_DMSP_VIIRS/India_2016_31.tfrecord.gz\n",
      "Band \"NIR\" not in record 637 of data/South_Asia_5_countries/dhs_tfrecords_raw-3_year_period-Landsat_DMSP_VIIRS/India_2016_31.tfrecord.gz\n",
      "Band \"RED\" not in record 637 of data/South_Asia_5_countries/dhs_tfrecords_raw-3_year_period-Landsat_DMSP_VIIRS/India_2016_31.tfrecord.gz\n",
      "Band \"SWIR1\" not in record 637 of data/South_Asia_5_countries/dhs_tfrecords_raw-3_year_period-Landsat_DMSP_VIIRS/India_2016_31.tfrecord.gz\n",
      "Band \"SWIR2\" not in record 637 of data/South_Asia_5_countries/dhs_tfrecords_raw-3_year_period-Landsat_DMSP_VIIRS/India_2016_31.tfrecord.gz\n",
      "Band \"TEMP1\" not in record 637 of data/South_Asia_5_countries/dhs_tfrecords_raw-3_year_period-Landsat_DMSP_VIIRS/India_2016_31.tfrecord.gz\n",
      "Skip 1 cluster in India_2016\n",
      "Band \"BLUE\" not in record 639 of data/South_Asia_5_countries/dhs_tfrecords_raw-3_year_period-Landsat_DMSP_VIIRS/India_2016_31.tfrecord.gz\n",
      "Band \"GREEN\" not in record 639 of data/South_Asia_5_countries/dhs_tfrecords_raw-3_year_period-Landsat_DMSP_VIIRS/India_2016_31.tfrecord.gz\n",
      "Band \"NIR\" not in record 639 of data/South_Asia_5_countries/dhs_tfrecords_raw-3_year_period-Landsat_DMSP_VIIRS/India_2016_31.tfrecord.gz\n",
      "Band \"RED\" not in record 639 of data/South_Asia_5_countries/dhs_tfrecords_raw-3_year_period-Landsat_DMSP_VIIRS/India_2016_31.tfrecord.gz\n",
      "Band \"SWIR1\" not in record 639 of data/South_Asia_5_countries/dhs_tfrecords_raw-3_year_period-Landsat_DMSP_VIIRS/India_2016_31.tfrecord.gz\n",
      "Band \"SWIR2\" not in record 639 of data/South_Asia_5_countries/dhs_tfrecords_raw-3_year_period-Landsat_DMSP_VIIRS/India_2016_31.tfrecord.gz\n",
      "Band \"TEMP1\" not in record 639 of data/South_Asia_5_countries/dhs_tfrecords_raw-3_year_period-Landsat_DMSP_VIIRS/India_2016_31.tfrecord.gz\n",
      "Skip 1 cluster in India_2016\n",
      "Band \"BLUE\" not in record 640 of data/South_Asia_5_countries/dhs_tfrecords_raw-3_year_period-Landsat_DMSP_VIIRS/India_2016_32.tfrecord.gz\n",
      "Band \"GREEN\" not in record 640 of data/South_Asia_5_countries/dhs_tfrecords_raw-3_year_period-Landsat_DMSP_VIIRS/India_2016_32.tfrecord.gz\n",
      "Band \"NIR\" not in record 640 of data/South_Asia_5_countries/dhs_tfrecords_raw-3_year_period-Landsat_DMSP_VIIRS/India_2016_32.tfrecord.gz\n",
      "Band \"RED\" not in record 640 of data/South_Asia_5_countries/dhs_tfrecords_raw-3_year_period-Landsat_DMSP_VIIRS/India_2016_32.tfrecord.gz\n",
      "Band \"SWIR1\" not in record 640 of data/South_Asia_5_countries/dhs_tfrecords_raw-3_year_period-Landsat_DMSP_VIIRS/India_2016_32.tfrecord.gz\n",
      "Band \"SWIR2\" not in record 640 of data/South_Asia_5_countries/dhs_tfrecords_raw-3_year_period-Landsat_DMSP_VIIRS/India_2016_32.tfrecord.gz\n",
      "Band \"TEMP1\" not in record 640 of data/South_Asia_5_countries/dhs_tfrecords_raw-3_year_period-Landsat_DMSP_VIIRS/India_2016_32.tfrecord.gz\n",
      "Skip 1 cluster in India_2016\n",
      "Band \"BLUE\" not in record 6762 of data/South_Asia_5_countries/dhs_tfrecords_raw-3_year_period-Landsat_DMSP_VIIRS/India_2016_338.tfrecord.gz\n",
      "Band \"GREEN\" not in record 6762 of data/South_Asia_5_countries/dhs_tfrecords_raw-3_year_period-Landsat_DMSP_VIIRS/India_2016_338.tfrecord.gz\n",
      "Band \"NIR\" not in record 6762 of data/South_Asia_5_countries/dhs_tfrecords_raw-3_year_period-Landsat_DMSP_VIIRS/India_2016_338.tfrecord.gz\n",
      "Band \"RED\" not in record 6762 of data/South_Asia_5_countries/dhs_tfrecords_raw-3_year_period-Landsat_DMSP_VIIRS/India_2016_338.tfrecord.gz\n",
      "Band \"SWIR1\" not in record 6762 of data/South_Asia_5_countries/dhs_tfrecords_raw-3_year_period-Landsat_DMSP_VIIRS/India_2016_338.tfrecord.gz\n",
      "Band \"SWIR2\" not in record 6762 of data/South_Asia_5_countries/dhs_tfrecords_raw-3_year_period-Landsat_DMSP_VIIRS/India_2016_338.tfrecord.gz\n",
      "Band \"TEMP1\" not in record 6762 of data/South_Asia_5_countries/dhs_tfrecords_raw-3_year_period-Landsat_DMSP_VIIRS/India_2016_338.tfrecord.gz\n",
      "Skip 1 cluster in India_2016\n",
      "\n",
      "Processing: Nepal_2001\n"
     ]
    },
    {
     "data": {
      "application/vnd.jupyter.widget-view+json": {
       "model_id": "4a0e55e87ba443f58d6ac2d1057d8cff",
       "version_major": 2,
       "version_minor": 0
      },
      "text/plain": [
       "HBox(children=(FloatProgress(value=0.0, max=251.0), HTML(value='')))"
      ]
     },
     "metadata": {},
     "output_type": "display_data"
    },
    {
     "name": "stdout",
     "output_type": "stream",
     "text": [
      "\n",
      "Processing: Nepal_2006\n"
     ]
    },
    {
     "data": {
      "application/vnd.jupyter.widget-view+json": {
       "model_id": "8d1d7407286448a8a7feee39a1dfbb55",
       "version_major": 2,
       "version_minor": 0
      },
      "text/plain": [
       "HBox(children=(FloatProgress(value=0.0, max=260.0), HTML(value='')))"
      ]
     },
     "metadata": {},
     "output_type": "display_data"
    },
    {
     "name": "stdout",
     "output_type": "stream",
     "text": [
      "\n",
      "Processing: Nepal_2016\n"
     ]
    },
    {
     "data": {
      "application/vnd.jupyter.widget-view+json": {
       "model_id": "75a87d35da7c4d6db4e4998fc615f50e",
       "version_major": 2,
       "version_minor": 0
      },
      "text/plain": [
       "HBox(children=(FloatProgress(value=0.0, max=371.0), HTML(value='')))"
      ]
     },
     "metadata": {},
     "output_type": "display_data"
    },
    {
     "name": "stdout",
     "output_type": "stream",
     "text": [
      "\n",
      "Processing: Nepal_2017\n"
     ]
    },
    {
     "data": {
      "application/vnd.jupyter.widget-view+json": {
       "model_id": "ad96808968bd44b5b35f6d1d607adaa6",
       "version_major": 2,
       "version_minor": 0
      },
      "text/plain": [
       "HBox(children=(FloatProgress(value=0.0, max=12.0), HTML(value='')))"
      ]
     },
     "metadata": {},
     "output_type": "display_data"
    },
    {
     "name": "stdout",
     "output_type": "stream",
     "text": [
      "\n",
      "Processing: Pakistan_2006\n"
     ]
    },
    {
     "data": {
      "application/vnd.jupyter.widget-view+json": {
       "model_id": "32146c10b46649bbaf52dc89475d887e",
       "version_major": 2,
       "version_minor": 0
      },
      "text/plain": [
       "HBox(children=(FloatProgress(value=0.0, max=704.0), HTML(value='')))"
      ]
     },
     "metadata": {},
     "output_type": "display_data"
    },
    {
     "name": "stdout",
     "output_type": "stream",
     "text": [
      "\n",
      "Processing: Pakistan_2007\n"
     ]
    },
    {
     "data": {
      "application/vnd.jupyter.widget-view+json": {
       "model_id": "5a672186e1b14e8eb0f170c4e4fd6b02",
       "version_major": 2,
       "version_minor": 0
      },
      "text/plain": [
       "HBox(children=(FloatProgress(value=0.0, max=252.0), HTML(value='')))"
      ]
     },
     "metadata": {},
     "output_type": "display_data"
    },
    {
     "name": "stdout",
     "output_type": "stream",
     "text": [
      "Band \"BLUE\" not in record 0 of data/South_Asia_5_countries/dhs_tfrecords_raw-3_year_period-Landsat_DMSP_VIIRS/Pakistan_2007_00.tfrecord.gz\n",
      "Band \"GREEN\" not in record 0 of data/South_Asia_5_countries/dhs_tfrecords_raw-3_year_period-Landsat_DMSP_VIIRS/Pakistan_2007_00.tfrecord.gz\n",
      "Band \"NIR\" not in record 0 of data/South_Asia_5_countries/dhs_tfrecords_raw-3_year_period-Landsat_DMSP_VIIRS/Pakistan_2007_00.tfrecord.gz\n",
      "Band \"RED\" not in record 0 of data/South_Asia_5_countries/dhs_tfrecords_raw-3_year_period-Landsat_DMSP_VIIRS/Pakistan_2007_00.tfrecord.gz\n",
      "Band \"SWIR1\" not in record 0 of data/South_Asia_5_countries/dhs_tfrecords_raw-3_year_period-Landsat_DMSP_VIIRS/Pakistan_2007_00.tfrecord.gz\n",
      "Band \"SWIR2\" not in record 0 of data/South_Asia_5_countries/dhs_tfrecords_raw-3_year_period-Landsat_DMSP_VIIRS/Pakistan_2007_00.tfrecord.gz\n",
      "Band \"TEMP1\" not in record 0 of data/South_Asia_5_countries/dhs_tfrecords_raw-3_year_period-Landsat_DMSP_VIIRS/Pakistan_2007_00.tfrecord.gz\n",
      "Skip 1 cluster in Pakistan_2007\n",
      "\n",
      "Processing: Pakistan_2017\n"
     ]
    },
    {
     "data": {
      "application/vnd.jupyter.widget-view+json": {
       "model_id": "64163c1c33d34c3c8d45898d563e646d",
       "version_major": 2,
       "version_minor": 0
      },
      "text/plain": [
       "HBox(children=(FloatProgress(value=0.0, max=179.0), HTML(value='')))"
      ]
     },
     "metadata": {},
     "output_type": "display_data"
    },
    {
     "name": "stdout",
     "output_type": "stream",
     "text": [
      "\n",
      "Processing: Pakistan_2018\n"
     ]
    },
    {
     "data": {
      "application/vnd.jupyter.widget-view+json": {
       "model_id": "662d10fc4ffe4242935ab2977243681c",
       "version_major": 2,
       "version_minor": 0
      },
      "text/plain": [
       "HBox(children=(FloatProgress(value=0.0, max=381.0), HTML(value='')))"
      ]
     },
     "metadata": {},
     "output_type": "display_data"
    },
    {
     "name": "stdout",
     "output_type": "stream",
     "text": [
      "\n"
     ]
    }
   ],
   "source": [
    "process_dataset(\n",
    "    csv_path=DHS_CLUSTERS_FILE,\n",
    "    input_dir=DHS_EXPORT_FOLDER,\n",
    "    processed_dir=DHS_PROCESSED_FOLDER)"
   ]
  },
  {
   "cell_type": "code",
   "execution_count": null,
   "metadata": {},
   "outputs": [],
   "source": [
    "# process_dataset(\n",
    "#     csv_path='data/dhsnl_locs.csv',\n",
    "#     input_dir=DHSNL_EXPORT_FOLDER,\n",
    "#     processed_dir=DHSNL_PROCESSED_FOLDER)"
   ]
  },
  {
   "cell_type": "code",
   "execution_count": null,
   "metadata": {},
   "outputs": [],
   "source": [
    "# process_dataset(\n",
    "#     csv_path='data/lsms_clusters.csv',\n",
    "#     input_dir=LSMS_EXPORT_FOLDER,\n",
    "#     processed_dir=LSMS_PROCESSED_FOLDER)"
   ]
  },
  {
   "cell_type": "markdown",
   "metadata": {},
   "source": [
    "## Verify the Individual TFRecord Files (Optional)\n",
    "\n",
    "Check that the label, location, and year values in each individual TFRecord file match the original CSV."
   ]
  },
  {
   "cell_type": "code",
   "execution_count": null,
   "metadata": {},
   "outputs": [],
   "source": [
    "def validate_individual_tfrecords(tfrecord_paths: Iterable[str],\n",
    "                                  csv_path: str,\n",
    "                                  label_name: Optional[str] = None) -> None:\n",
    "    '''\n",
    "    Args\n",
    "    - tfrecord_paths: list of str, paths to individual TFRecord files\n",
    "        in the same order as in the CSV\n",
    "    - csv_path: str, path to CSV file with columns ['lat', 'lon', 'wealthpooled', 'year']\n",
    "    '''\n",
    "    df = pd.read_csv(csv_path, float_precision='high', index_col=False)\n",
    "    iter_init, batch_op = batcher.Batcher(\n",
    "        tfrecord_files=tfrecord_paths,\n",
    "        label_name=label_name,\n",
    "        ls_bands=None,\n",
    "        nl_band=None,\n",
    "        batch_size=128,\n",
    "        shuffle=False,\n",
    "        augment=False,\n",
    "        clipneg=False,\n",
    "        normalize=None).get_batch()\n",
    "\n",
    "    locs, years = [], []\n",
    "    if label_name is not None:\n",
    "        labels = []\n",
    "\n",
    "    num_processed = 0\n",
    "    with tf.Session() as sess:\n",
    "        sess.run(iter_init)\n",
    "        while True:\n",
    "            try:\n",
    "                if label_name is not None:\n",
    "                    batch_np = sess.run((batch_op['locs'], batch_op['years'], batch_op['labels']))\n",
    "                    labels.append(batch_np[2])\n",
    "                else:\n",
    "                    batch_np = sess.run((batch_op['locs'], batch_op['years']))\n",
    "                locs.append(batch_np[0])\n",
    "                years.append(batch_np[1])\n",
    "                num_processed += len(batch_np[0])\n",
    "                print(f'\\rProcessed {num_processed} images', end='')\n",
    "            except tf.errors.OutOfRangeError:\n",
    "                break\n",
    "    print()\n",
    "\n",
    "    locs = np.concatenate(locs)\n",
    "    years = np.concatenate(years)\n",
    "    assert (locs == df[['lat', 'lon']].to_numpy(dtype=np.float32)).all()\n",
    "    assert (years == df['year'].to_numpy(dtype=np.float32)).all()\n",
    "    if label_name is not None:\n",
    "        labels = np.concatenate(labels)\n",
    "        assert (labels == df[label_name].to_numpy(dtype=np.float32)).all()"
   ]
  },
  {
   "cell_type": "code",
   "execution_count": null,
   "metadata": {},
   "outputs": [],
   "source": [
    "validate_individual_tfrecords(\n",
    "    tfrecord_paths=tfrecord_paths_utils.dhs_sa(),\n",
    "    csv_path='data/South_Asia_5_countries/dhs_clusters_South_Asia_from_2000.csv',\n",
    "    label_name='wealthpooled5country')"
   ]
  },
  {
   "cell_type": "code",
   "execution_count": null,
   "metadata": {},
   "outputs": [],
   "source": [
    "# validate_individual_tfrecords(\n",
    "#     tfrecord_paths=tfrecord_paths_utils.dhs(),\n",
    "#     csv_path='data/dhs_clusters.csv',\n",
    "#     label_name='wealthpooled')"
   ]
  },
  {
   "cell_type": "code",
   "execution_count": null,
   "metadata": {},
   "outputs": [],
   "source": [
    "# validate_individual_tfrecords(\n",
    "#     tfrecord_paths=tfrecord_paths_utils.dhsnl(),\n",
    "#     csv_path='data/dhsnl_locs.csv')"
   ]
  },
  {
   "cell_type": "code",
   "execution_count": null,
   "metadata": {},
   "outputs": [],
   "source": [
    "# validate_individual_tfrecords(\n",
    "#     tfrecord_paths=tfrecord_paths_utils.lsms(),\n",
    "#     csv_path='data/lsms_clusters.csv')"
   ]
  },
  {
   "cell_type": "markdown",
   "metadata": {},
   "source": [
    "## Calculate Mean and Std-Dev for Each Band\n",
    "\n",
    "The means and standard deviations calculated here are saved as constants in `batchers/dataset_constants.py` for `_MEANS_DHS`, `_STD_DEVS_DHS`, `_MEANS_LSMS`, and `_STD_DEVS_LSMS`."
   ]
  },
  {
   "cell_type": "code",
   "execution_count": 4,
   "metadata": {},
   "outputs": [],
   "source": [
    "def calculate_mean_std(tfrecord_paths):\n",
    "    '''Calculates and prints the per-band means and std-devs'''\n",
    "    iter_init, batch_op = batcher.Batcher(\n",
    "        tfrecord_files=tfrecord_paths,\n",
    "        label_name=None,\n",
    "        ls_bands='ms',\n",
    "        nl_band='merge',\n",
    "        batch_size=128,\n",
    "        shuffle=False,\n",
    "        augment=False,\n",
    "        clipneg=False,\n",
    "        normalize=None).get_batch()\n",
    "\n",
    "    stats = analyze_tfrecord_batch(\n",
    "        iter_init, batch_op, total_num_images=len(tfrecord_paths),\n",
    "        nbands=len(BANDS_ORDER), k=10)\n",
    "    means, stds = per_band_mean_std(stats=stats, band_order=BANDS_ORDER)\n",
    "\n",
    "    print('Means:')\n",
    "    pprint(means)\n",
    "    print()\n",
    "\n",
    "    print('Std Devs:')\n",
    "    pprint(stds)\n",
    "\n",
    "    print('\\n========== Additional Per-band Statistics ==========\\n')\n",
    "    print_analysis_results(stats, BANDS_ORDER)"
   ]
  },
  {
   "cell_type": "code",
   "execution_count": 5,
   "metadata": {},
   "outputs": [
    {
     "name": "stdout",
     "output_type": "stream",
     "text": [
      "split train: ['India_2015', 'India_2016', 'Nepal_2016', 'Nepal_2017', 'Pakistan_2017']\n",
      "split val: ['Bangladesh_2000', 'Bangladesh_2004', 'Bangladesh_2007', 'Bangladesh_2011', 'Bangladesh_2014', 'Nepal_2001', 'Nepal_2006', 'Pakistan_2006', 'Pakistan_2007', 'Pakistan_2018']\n",
      "WARNING:tensorflow:From /home/ubuntu/africa_poverty/batchers/batcher.py:149: DatasetV1.make_initializable_iterator (from tensorflow.python.data.ops.dataset_ops) is deprecated and will be removed in a future version.\n",
      "Instructions for updating:\n",
      "Use `for ... in dataset:` to iterate over a dataset. If using `tf.estimator`, return the `Dataset` object directly from your input function. As a last resort, you can use `tf.compat.v1.data.make_initializable_iterator(dataset)`.\n",
      "WARNING:tensorflow:From /home/ubuntu/africa_poverty/preprocessing/helper.py:57: The name tf.Session is deprecated. Please use tf.compat.v1.Session instead.\n",
      "\n",
      "Finished. Processed 32849 images.\n",
      "Time per batch - mean: 1.771s, std: 0.517s\n",
      "Time to process each batch - mean: 3.701s, std: 0.382s\n",
      "Total time: 1407.066s, Num batches: 257\n",
      "Means:\n",
      "{'BLUE': 0.06338468492626972,\n",
      " 'DMSP': 2.280088773735669,\n",
      " 'GREEN': 0.09289159806232289,\n",
      " 'NIR': 0.24197197895589598,\n",
      " 'RED': 0.09979116727284823,\n",
      " 'SWIR1': 0.20902558118843362,\n",
      " 'SWIR2': 0.14316757328072577,\n",
      " 'TEMP1': 298.8508998493985,\n",
      " 'VIIRS': 3.0747507659869093}\n",
      "\n",
      "Std Devs:\n",
      "{'BLUE': 0.023564517052162018,\n",
      " 'DMSP': 21.18932843076767,\n",
      " 'GREEN': 0.030091120093488254,\n",
      " 'NIR': 0.05016784652670966,\n",
      " 'RED': 0.04236640672043477,\n",
      " 'SWIR1': 0.06821323618943902,\n",
      " 'SWIR2': 0.06503021742037682,\n",
      " 'TEMP1': 4.902006677756704,\n",
      " 'VIIRS': 8.503938120015318}\n",
      "\n",
      "========== Additional Per-band Statistics ==========\n",
      "\n",
      "Statistics including bad pixels\n",
      "Band BLUE     - mean:   0.063384, std:  0.023565, min:        -0.2, max:    2.000000\n",
      "Band GREEN    - mean:   0.092891, std:  0.030092, min:     -0.1383, max:    2.000000\n",
      "Band RED      - mean:   0.099791, std:  0.042367, min:     -0.1246, max:    2.000000\n",
      "Band SWIR1    - mean:   0.209024, std:  0.068215, min:     -0.0118, max:    2.000000\n",
      "Band SWIR2    - mean:   0.143167, std:  0.065031, min:     -0.0076, max:    2.000000\n",
      "Band TEMP1    - mean: 298.848942, std:  4.961323, min:           0, max:  322.350006\n",
      "Band NIR      - mean:   0.241970, std:  0.050172, min:     -0.0966, max:    2.000000\n",
      "Band DMSP     - mean:   2.280074, std: 21.189260, min:           0, max:  540.965271\n",
      "Band VIIRS    - mean:   3.074731, std:  8.503914, min: -0.00974869, max: 1126.524902\n",
      "\n",
      "Statistics ignoring any 0s and negative values\n",
      "Band BLUE     - mean:   0.063392, std:  0.023557, min:     7.5e-06, max:    2.000000, mean_nz: 50170.277344\n",
      "Band GREEN    - mean:   0.092898, std:  0.030082, min:       5e-05, max:    2.000000, mean_nz: 50172.210938\n",
      "Band RED      - mean:   0.099799, std:  0.042359, min:    1.25e-05, max:    2.000000, mean_nz: 50171.773438\n",
      "Band SWIR1    - mean:   0.209040, std:  0.068193, min:       5e-05, max:    2.000000, mean_nz: 50172.152344\n",
      "Band SWIR2    - mean:   0.143177, std:  0.065022, min:       5e-05, max:    2.000000, mean_nz: 50172.394531\n",
      "Band TEMP1    - mean: 298.870369, std:  4.267603, min:       233.5, max:  322.350006, mean_nz: 50172.402344\n",
      "Band NIR      - mean:   0.241992, std:  0.050123, min:       5e-05, max:    2.000000, mean_nz: 50171.613281\n",
      "Band DMSP     - mean:  38.604535, std: 78.737479, min:     1.67722, max:  540.965271, mean_nz: 2963.511475\n",
      "Band VIIRS    - mean:   3.380168, std:  8.858211, min: 0.000787268, max: 1126.524902, mean_nz: 45642.011719\n",
      "\n",
      "Statistics excluding the bad pixels\n",
      "Band BLUE     - mean:   0.063385, std:  0.023565, min:        -0.2, max:    2.000000\n",
      "Band GREEN    - mean:   0.092892, std:  0.030091, min:     -0.1383, max:    2.000000\n",
      "Band RED      - mean:   0.099791, std:  0.042366, min:     -0.1246, max:    2.000000\n",
      "Band SWIR1    - mean:   0.209026, std:  0.068213, min:     -0.0118, max:    2.000000\n",
      "Band SWIR2    - mean:   0.143168, std:  0.065030, min:     -0.0076, max:    2.000000\n",
      "Band TEMP1    - mean: 298.850900, std:  4.902007, min:           0, max:  322.350006\n",
      "Band NIR      - mean:   0.241972, std:  0.050168, min:     -0.0966, max:    2.000000\n",
      "Band DMSP     - mean:   2.280089, std: 21.189328, min:           0, max:  540.965271\n",
      "Band VIIRS    - mean:   3.074751, std:  8.503938, min: -0.00974869, max: 1126.524902\n"
     ]
    }
   ],
   "source": [
    "calculate_mean_std(tfrecord_paths_utils.dhs_sa())"
   ]
  },
  {
   "cell_type": "code",
   "execution_count": null,
   "metadata": {},
   "outputs": [],
   "source": [
    "# calculate_mean_std(tfrecord_paths_utils.dhs())"
   ]
  },
  {
   "cell_type": "code",
   "execution_count": null,
   "metadata": {},
   "outputs": [],
   "source": [
    "# calculate_mean_std(tfrecord_paths_utils.dhsnl())"
   ]
  },
  {
   "cell_type": "code",
   "execution_count": null,
   "metadata": {},
   "outputs": [],
   "source": [
    "# calculate_mean_std(tfrecord_paths_utils.lsms())"
   ]
  }
 ],
 "metadata": {
  "kernelspec": {
   "display_name": "Python [conda env:py37]",
   "language": "python",
   "name": "conda-env-py37-py"
  },
  "language_info": {
   "codemirror_mode": {
    "name": "ipython",
    "version": 3
   },
   "file_extension": ".py",
   "mimetype": "text/x-python",
   "name": "python",
   "nbconvert_exporter": "python",
   "pygments_lexer": "ipython3",
   "version": "3.7.7"
  },
  "toc": {
   "base_numbering": 1,
   "nav_menu": {},
   "number_sections": true,
   "sideBar": true,
   "skip_h1_title": false,
   "title_cell": "Table of Contents",
   "title_sidebar": "Contents",
   "toc_cell": true,
   "toc_position": {
    "height": "calc(100% - 180px)",
    "left": "10px",
    "top": "150px",
    "width": "307.2px"
   },
   "toc_section_display": true,
   "toc_window_display": true
  }
 },
 "nbformat": 4,
 "nbformat_minor": 4
}
